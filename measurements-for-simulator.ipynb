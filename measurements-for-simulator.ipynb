{
 "cells": [
  {
   "metadata": {},
   "cell_type": "markdown",
   "source": "# Serverless Platform System Measurements for Simulator",
   "id": "511624fabd748a6b"
  },
  {
   "metadata": {
    "ExecuteTime": {
     "end_time": "2025-03-20T05:58:46.647187Z",
     "start_time": "2025-03-20T05:58:46.292386Z"
    }
   },
   "cell_type": "code",
   "source": [
    "import asyncio\n",
    "from sf_platform import ServerlessPlatform\n",
    "import numpy as np\n",
    "import pandas as pd"
   ],
   "id": "88aec58c9cf0df2c",
   "outputs": [],
   "execution_count": 1
  },
  {
   "cell_type": "code",
   "id": "initial_id",
   "metadata": {
    "collapsed": true,
    "ExecuteTime": {
     "end_time": "2025-03-20T05:58:46.658737Z",
     "start_time": "2025-03-20T05:58:46.649267Z"
    }
   },
   "source": "sp = ServerlessPlatform(\"./sf_platform/template/\")",
   "outputs": [],
   "execution_count": 2
  },
  {
   "metadata": {
    "ExecuteTime": {
     "end_time": "2025-03-20T05:59:37.758616Z",
     "start_time": "2025-03-20T05:58:46.659342Z"
    }
   },
   "cell_type": "code",
   "source": [
    "for i in range(10):\n",
    "    await sp.register_function(f\"sleep-{i}\", \"./sf_platform/examples/sleep/entry.py\", \"./sf_platform/examples/sleep/requirements.txt\")\n",
    "    \n",
    "    # Cold starts\n",
    "    await asyncio.gather(*[sp.run_function(f\"sleep-{i}\", query_params=\"t=0\") for _ in range(10)])\n",
    "    \n",
    "    await asyncio.sleep(1)\n",
    "    \n",
    "    # Warm starts\n",
    "    await asyncio.gather(*[sp.run_function(f\"sleep-{i}\", query_params=\"t=0\") for _ in range(10)])\n",
    "    \n",
    "    await asyncio.sleep(1)\n",
    "\n",
    "pass # Supress notebook output"
   ],
   "id": "2ca2c067b359d58c",
   "outputs": [],
   "execution_count": 3
  },
  {
   "metadata": {
    "ExecuteTime": {
     "end_time": "2025-03-20T05:59:37.764342Z",
     "start_time": "2025-03-20T05:59:37.760124Z"
    }
   },
   "cell_type": "code",
   "source": [
    "# \"acquire\" = time from entry to getting a container (when warm, directly get one from available, otherwise make one)\n",
    "warm_acquire_durations = []\n",
    "cold_acquire_durations = []\n",
    "\n",
    "# \"execution_overhead\" = time from getting the result from getting the container (represents routing the request across \n",
    "# the datacenter and waiting for the machines to marshall/unmarshall)\n",
    "# assumes 0 execution time for the actual program! (we would slot the execution time of whatever function we're trying to model\n",
    "# after this duration)\n",
    "warm_execution_overhead_durations = []\n",
    "cold_execution_overhead_durations = []\n",
    "\n",
    "# \"release\" = time from getting a response to the time the container is ready for the next execution\n",
    "warm_release_durations = []\n",
    "cold_release_durations = []\n",
    "\n",
    "for row in sp.logs:\n",
    "    if row['log_type'] != 'invocation_trace':\n",
    "        continue\n",
    "        \n",
    "    acquire = row['container_acquire_time'] - row['entry_time']\n",
    "    execution_overhead = row['response_time'] - row['container_acquire_time']\n",
    "    release = row['container_release_time'] - row['response_time']\n",
    "    \n",
    "    if row['cold_start']:\n",
    "        cold_acquire_durations.append(acquire)\n",
    "        cold_execution_overhead_durations.append(execution_overhead)\n",
    "        cold_release_durations.append(release)\n",
    "    else:\n",
    "        warm_acquire_durations.append(acquire)\n",
    "        warm_execution_overhead_durations.append(execution_overhead)\n",
    "        warm_release_durations.append(release)\n"
   ],
   "id": "bb6c9b009dcb6c3",
   "outputs": [],
   "execution_count": 4
  },
  {
   "metadata": {},
   "cell_type": "markdown",
   "source": "### Warm Starts",
   "id": "69880c19b6444864"
  },
  {
   "metadata": {
    "ExecuteTime": {
     "end_time": "2025-03-20T06:00:41.558946Z",
     "start_time": "2025-03-20T06:00:41.529979Z"
    }
   },
   "cell_type": "code",
   "source": [
    "warm_df = pd.DataFrame({\n",
    "    \"Acquire\": warm_acquire_durations,\n",
    "    \"Execution Overhead\": warm_execution_overhead_durations,\n",
    "    \"Release\": warm_release_durations\n",
    "})\n",
    "\n",
    "\n",
    "warm_df.describe()"
   ],
   "id": "ba378b2940b8082c",
   "outputs": [
    {
     "data": {
      "text/plain": [
       "          Acquire  Execution Overhead     Release\n",
       "count  100.000000          100.000000  100.000000\n",
       "mean     0.000017            0.021617    0.000007\n",
       "std      0.000015            0.010093    0.000005\n",
       "min      0.000003            0.008964    0.000003\n",
       "25%      0.000009            0.014080    0.000005\n",
       "50%      0.000011            0.017489    0.000006\n",
       "75%      0.000022            0.029753    0.000008\n",
       "max      0.000111            0.044499    0.000040"
      ],
      "text/html": [
       "<div>\n",
       "<style scoped>\n",
       "    .dataframe tbody tr th:only-of-type {\n",
       "        vertical-align: middle;\n",
       "    }\n",
       "\n",
       "    .dataframe tbody tr th {\n",
       "        vertical-align: top;\n",
       "    }\n",
       "\n",
       "    .dataframe thead th {\n",
       "        text-align: right;\n",
       "    }\n",
       "</style>\n",
       "<table border=\"1\" class=\"dataframe\">\n",
       "  <thead>\n",
       "    <tr style=\"text-align: right;\">\n",
       "      <th></th>\n",
       "      <th>Acquire</th>\n",
       "      <th>Execution Overhead</th>\n",
       "      <th>Release</th>\n",
       "    </tr>\n",
       "  </thead>\n",
       "  <tbody>\n",
       "    <tr>\n",
       "      <th>count</th>\n",
       "      <td>100.000000</td>\n",
       "      <td>100.000000</td>\n",
       "      <td>100.000000</td>\n",
       "    </tr>\n",
       "    <tr>\n",
       "      <th>mean</th>\n",
       "      <td>0.000017</td>\n",
       "      <td>0.021617</td>\n",
       "      <td>0.000007</td>\n",
       "    </tr>\n",
       "    <tr>\n",
       "      <th>std</th>\n",
       "      <td>0.000015</td>\n",
       "      <td>0.010093</td>\n",
       "      <td>0.000005</td>\n",
       "    </tr>\n",
       "    <tr>\n",
       "      <th>min</th>\n",
       "      <td>0.000003</td>\n",
       "      <td>0.008964</td>\n",
       "      <td>0.000003</td>\n",
       "    </tr>\n",
       "    <tr>\n",
       "      <th>25%</th>\n",
       "      <td>0.000009</td>\n",
       "      <td>0.014080</td>\n",
       "      <td>0.000005</td>\n",
       "    </tr>\n",
       "    <tr>\n",
       "      <th>50%</th>\n",
       "      <td>0.000011</td>\n",
       "      <td>0.017489</td>\n",
       "      <td>0.000006</td>\n",
       "    </tr>\n",
       "    <tr>\n",
       "      <th>75%</th>\n",
       "      <td>0.000022</td>\n",
       "      <td>0.029753</td>\n",
       "      <td>0.000008</td>\n",
       "    </tr>\n",
       "    <tr>\n",
       "      <th>max</th>\n",
       "      <td>0.000111</td>\n",
       "      <td>0.044499</td>\n",
       "      <td>0.000040</td>\n",
       "    </tr>\n",
       "  </tbody>\n",
       "</table>\n",
       "</div>"
      ]
     },
     "execution_count": 6,
     "metadata": {},
     "output_type": "execute_result"
    }
   ],
   "execution_count": 6
  },
  {
   "metadata": {},
   "cell_type": "markdown",
   "source": "### Cold Starts",
   "id": "5c436526f4de6824"
  },
  {
   "metadata": {
    "ExecuteTime": {
     "end_time": "2025-03-20T06:00:50.196515Z",
     "start_time": "2025-03-20T06:00:50.187703Z"
    }
   },
   "cell_type": "code",
   "source": [
    "cold_df = pd.DataFrame({\n",
    "    \"Acquire\": cold_acquire_durations,\n",
    "    \"Execution Overhead\": cold_execution_overhead_durations,\n",
    "    \"Release\": cold_release_durations\n",
    "})\n",
    "\n",
    "\n",
    "cold_df.describe()"
   ],
   "id": "6c79ed249ebe7414",
   "outputs": [
    {
     "data": {
      "text/plain": [
       "          Acquire  Execution Overhead     Release\n",
       "count  100.000000          100.000000  100.000000\n",
       "mean     1.121333            0.220730    0.000013\n",
       "std      0.629269            0.045443    0.000009\n",
       "min      0.140338            0.113523    0.000005\n",
       "25%      0.605085            0.220165    0.000007\n",
       "50%      1.083161            0.226644    0.000014\n",
       "75%      1.627411            0.236013    0.000015\n",
       "max      2.368496            0.349994    0.000075"
      ],
      "text/html": [
       "<div>\n",
       "<style scoped>\n",
       "    .dataframe tbody tr th:only-of-type {\n",
       "        vertical-align: middle;\n",
       "    }\n",
       "\n",
       "    .dataframe tbody tr th {\n",
       "        vertical-align: top;\n",
       "    }\n",
       "\n",
       "    .dataframe thead th {\n",
       "        text-align: right;\n",
       "    }\n",
       "</style>\n",
       "<table border=\"1\" class=\"dataframe\">\n",
       "  <thead>\n",
       "    <tr style=\"text-align: right;\">\n",
       "      <th></th>\n",
       "      <th>Acquire</th>\n",
       "      <th>Execution Overhead</th>\n",
       "      <th>Release</th>\n",
       "    </tr>\n",
       "  </thead>\n",
       "  <tbody>\n",
       "    <tr>\n",
       "      <th>count</th>\n",
       "      <td>100.000000</td>\n",
       "      <td>100.000000</td>\n",
       "      <td>100.000000</td>\n",
       "    </tr>\n",
       "    <tr>\n",
       "      <th>mean</th>\n",
       "      <td>1.121333</td>\n",
       "      <td>0.220730</td>\n",
       "      <td>0.000013</td>\n",
       "    </tr>\n",
       "    <tr>\n",
       "      <th>std</th>\n",
       "      <td>0.629269</td>\n",
       "      <td>0.045443</td>\n",
       "      <td>0.000009</td>\n",
       "    </tr>\n",
       "    <tr>\n",
       "      <th>min</th>\n",
       "      <td>0.140338</td>\n",
       "      <td>0.113523</td>\n",
       "      <td>0.000005</td>\n",
       "    </tr>\n",
       "    <tr>\n",
       "      <th>25%</th>\n",
       "      <td>0.605085</td>\n",
       "      <td>0.220165</td>\n",
       "      <td>0.000007</td>\n",
       "    </tr>\n",
       "    <tr>\n",
       "      <th>50%</th>\n",
       "      <td>1.083161</td>\n",
       "      <td>0.226644</td>\n",
       "      <td>0.000014</td>\n",
       "    </tr>\n",
       "    <tr>\n",
       "      <th>75%</th>\n",
       "      <td>1.627411</td>\n",
       "      <td>0.236013</td>\n",
       "      <td>0.000015</td>\n",
       "    </tr>\n",
       "    <tr>\n",
       "      <th>max</th>\n",
       "      <td>2.368496</td>\n",
       "      <td>0.349994</td>\n",
       "      <td>0.000075</td>\n",
       "    </tr>\n",
       "  </tbody>\n",
       "</table>\n",
       "</div>"
      ]
     },
     "execution_count": 7,
     "metadata": {},
     "output_type": "execute_result"
    }
   ],
   "execution_count": 7
  },
  {
   "metadata": {},
   "cell_type": "markdown",
   "source": "### Combined Statistics",
   "id": "4e77c32966be2ef4"
  },
  {
   "metadata": {
    "ExecuteTime": {
     "end_time": "2025-03-20T06:01:00.740190Z",
     "start_time": "2025-03-20T06:01:00.732232Z"
    }
   },
   "cell_type": "code",
   "source": [
    "together_df = pd.DataFrame({\n",
    "    \"Acquire\": cold_acquire_durations + warm_acquire_durations,\n",
    "    \"Execution Overhead\": cold_execution_overhead_durations + warm_execution_overhead_durations,\n",
    "    \"Release\": cold_release_durations + warm_release_durations\n",
    "})\n",
    "\n",
    "\n",
    "together_df.describe()"
   ],
   "id": "3b36681ad10daf1c",
   "outputs": [
    {
     "data": {
      "text/plain": [
       "          Acquire  Execution Overhead     Release\n",
       "count  200.000000          200.000000  200.000000\n",
       "mean     0.560675            0.121173    0.000010\n",
       "std      0.716179            0.105068    0.000008\n",
       "min      0.000003            0.008964    0.000003\n",
       "25%      0.000011            0.017545    0.000006\n",
       "50%      0.070225            0.079011    0.000007\n",
       "75%      1.074419            0.226620    0.000014\n",
       "max      2.368496            0.349994    0.000075"
      ],
      "text/html": [
       "<div>\n",
       "<style scoped>\n",
       "    .dataframe tbody tr th:only-of-type {\n",
       "        vertical-align: middle;\n",
       "    }\n",
       "\n",
       "    .dataframe tbody tr th {\n",
       "        vertical-align: top;\n",
       "    }\n",
       "\n",
       "    .dataframe thead th {\n",
       "        text-align: right;\n",
       "    }\n",
       "</style>\n",
       "<table border=\"1\" class=\"dataframe\">\n",
       "  <thead>\n",
       "    <tr style=\"text-align: right;\">\n",
       "      <th></th>\n",
       "      <th>Acquire</th>\n",
       "      <th>Execution Overhead</th>\n",
       "      <th>Release</th>\n",
       "    </tr>\n",
       "  </thead>\n",
       "  <tbody>\n",
       "    <tr>\n",
       "      <th>count</th>\n",
       "      <td>200.000000</td>\n",
       "      <td>200.000000</td>\n",
       "      <td>200.000000</td>\n",
       "    </tr>\n",
       "    <tr>\n",
       "      <th>mean</th>\n",
       "      <td>0.560675</td>\n",
       "      <td>0.121173</td>\n",
       "      <td>0.000010</td>\n",
       "    </tr>\n",
       "    <tr>\n",
       "      <th>std</th>\n",
       "      <td>0.716179</td>\n",
       "      <td>0.105068</td>\n",
       "      <td>0.000008</td>\n",
       "    </tr>\n",
       "    <tr>\n",
       "      <th>min</th>\n",
       "      <td>0.000003</td>\n",
       "      <td>0.008964</td>\n",
       "      <td>0.000003</td>\n",
       "    </tr>\n",
       "    <tr>\n",
       "      <th>25%</th>\n",
       "      <td>0.000011</td>\n",
       "      <td>0.017545</td>\n",
       "      <td>0.000006</td>\n",
       "    </tr>\n",
       "    <tr>\n",
       "      <th>50%</th>\n",
       "      <td>0.070225</td>\n",
       "      <td>0.079011</td>\n",
       "      <td>0.000007</td>\n",
       "    </tr>\n",
       "    <tr>\n",
       "      <th>75%</th>\n",
       "      <td>1.074419</td>\n",
       "      <td>0.226620</td>\n",
       "      <td>0.000014</td>\n",
       "    </tr>\n",
       "    <tr>\n",
       "      <th>max</th>\n",
       "      <td>2.368496</td>\n",
       "      <td>0.349994</td>\n",
       "      <td>0.000075</td>\n",
       "    </tr>\n",
       "  </tbody>\n",
       "</table>\n",
       "</div>"
      ]
     },
     "execution_count": 8,
     "metadata": {},
     "output_type": "execute_result"
    }
   ],
   "execution_count": 8
  },
  {
   "metadata": {
    "ExecuteTime": {
     "end_time": "2025-03-20T06:02:36.996944Z",
     "start_time": "2025-03-20T06:02:10.649297Z"
    }
   },
   "cell_type": "code",
   "source": "sp.shutdown()",
   "id": "9ed48cc629ec0892",
   "outputs": [],
   "execution_count": 9
  },
  {
   "metadata": {},
   "cell_type": "code",
   "outputs": [],
   "execution_count": null,
   "source": "",
   "id": "33af48ae18013c66"
  }
 ],
 "metadata": {
  "kernelspec": {
   "display_name": "Python 3",
   "language": "python",
   "name": "python3"
  },
  "language_info": {
   "codemirror_mode": {
    "name": "ipython",
    "version": 2
   },
   "file_extension": ".py",
   "mimetype": "text/x-python",
   "name": "python",
   "nbconvert_exporter": "python",
   "pygments_lexer": "ipython2",
   "version": "2.7.6"
  }
 },
 "nbformat": 4,
 "nbformat_minor": 5
}
