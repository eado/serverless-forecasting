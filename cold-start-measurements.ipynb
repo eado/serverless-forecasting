{
 "cells": [
  {
   "metadata": {},
   "cell_type": "markdown",
   "source": "# Comparison of Warm vs Cold Starts",
   "id": "511624fabd748a6b"
  },
  {
   "metadata": {
    "ExecuteTime": {
     "end_time": "2025-03-13T20:25:34.029805Z",
     "start_time": "2025-03-13T20:25:33.713694Z"
    }
   },
   "cell_type": "code",
   "source": [
    "import asyncio\n",
    "from sf_platform import ServerlessPlatform\n",
    "import numpy as np\n",
    "import pandas as pd"
   ],
   "id": "88aec58c9cf0df2c",
   "outputs": [],
   "execution_count": 1
  },
  {
   "cell_type": "code",
   "id": "initial_id",
   "metadata": {
    "collapsed": true,
    "ExecuteTime": {
     "end_time": "2025-03-13T20:25:34.059590Z",
     "start_time": "2025-03-13T20:25:34.030995Z"
    }
   },
   "source": "sp = ServerlessPlatform(\"./sf_platform/template/\")",
   "outputs": [],
   "execution_count": 2
  },
  {
   "metadata": {
    "ExecuteTime": {
     "end_time": "2025-03-13T20:26:25.387853Z",
     "start_time": "2025-03-13T20:25:34.060177Z"
    }
   },
   "cell_type": "code",
   "source": [
    "for i in range(10):\n",
    "    await sp.register_function(f\"cowsay-{i}\", \"./sf_platform/examples/cowsay/entry.py\", \"./sf_platform/examples/cowsay/requirements.txt\")\n",
    "    \n",
    "    # Cold starts\n",
    "    await asyncio.gather(*[sp.run_function(f\"cowsay-{i}\") for _ in range(10)])\n",
    "    \n",
    "    await asyncio.sleep(1)\n",
    "    \n",
    "    # Warm starts\n",
    "    await asyncio.gather(*[sp.run_function(f\"cowsay-{i}\") for _ in range(10)])\n",
    "    \n",
    "    await asyncio.sleep(1)\n",
    "\n",
    "pass # Supress notebook output"
   ],
   "id": "2ca2c067b359d58c",
   "outputs": [],
   "execution_count": 3
  },
  {
   "metadata": {
    "ExecuteTime": {
     "end_time": "2025-03-13T20:26:25.418483Z",
     "start_time": "2025-03-13T20:26:25.402138Z"
    }
   },
   "cell_type": "code",
   "source": [
    "warm_start_durations = []\n",
    "cold_start_durations = []\n",
    "for row in sp.logs:\n",
    "    if row['log_type'] != 'invocation_trace':\n",
    "        continue\n",
    "        \n",
    "    duration = row['container_release_time'] - row['entry_time']\n",
    "    \n",
    "    if row['cold_start']:\n",
    "        cold_start_durations.append(duration)\n",
    "    else:\n",
    "        warm_start_durations.append(duration)\n"
   ],
   "id": "bb6c9b009dcb6c3",
   "outputs": [],
   "execution_count": 4
  },
  {
   "metadata": {},
   "cell_type": "markdown",
   "source": "### Warm Starts",
   "id": "69880c19b6444864"
  },
  {
   "metadata": {
    "ExecuteTime": {
     "end_time": "2025-03-13T20:26:25.447768Z",
     "start_time": "2025-03-13T20:26:25.423065Z"
    }
   },
   "cell_type": "code",
   "source": "pd.Series(np.array(warm_start_durations)).describe()",
   "id": "ba378b2940b8082c",
   "outputs": [
    {
     "data": {
      "text/plain": [
       "count    100.000000\n",
       "mean       0.024760\n",
       "std        0.007143\n",
       "min        0.013962\n",
       "25%        0.020440\n",
       "50%        0.022773\n",
       "75%        0.026528\n",
       "max        0.044261\n",
       "dtype: float64"
      ]
     },
     "execution_count": 5,
     "metadata": {},
     "output_type": "execute_result"
    }
   ],
   "execution_count": 5
  },
  {
   "metadata": {},
   "cell_type": "markdown",
   "source": "### Cold Starts",
   "id": "5c436526f4de6824"
  },
  {
   "metadata": {
    "ExecuteTime": {
     "end_time": "2025-03-13T20:26:25.455967Z",
     "start_time": "2025-03-13T20:26:25.449686Z"
    }
   },
   "cell_type": "code",
   "source": "pd.Series(np.array(cold_start_durations)).describe()",
   "id": "6c79ed249ebe7414",
   "outputs": [
    {
     "data": {
      "text/plain": [
       "count    100.000000\n",
       "mean       1.487672\n",
       "std        0.703729\n",
       "min        0.300435\n",
       "25%        0.913092\n",
       "50%        1.493160\n",
       "75%        2.033018\n",
       "max        3.301046\n",
       "dtype: float64"
      ]
     },
     "execution_count": 6,
     "metadata": {},
     "output_type": "execute_result"
    }
   ],
   "execution_count": 6
  },
  {
   "metadata": {
    "ExecuteTime": {
     "end_time": "2025-03-13T20:26:44.653168Z",
     "start_time": "2025-03-13T20:26:25.457567Z"
    }
   },
   "cell_type": "code",
   "source": "sp.shutdown()",
   "id": "2406602d11e5690c",
   "outputs": [],
   "execution_count": 7
  },
  {
   "metadata": {
    "ExecuteTime": {
     "end_time": "2025-03-13T20:26:44.673021Z",
     "start_time": "2025-03-13T20:26:44.655192Z"
    }
   },
   "cell_type": "code",
   "source": "",
   "id": "aea749dd07dadb9e",
   "outputs": [],
   "execution_count": 7
  }
 ],
 "metadata": {
  "kernelspec": {
   "display_name": "Python 3",
   "language": "python",
   "name": "python3"
  },
  "language_info": {
   "codemirror_mode": {
    "name": "ipython",
    "version": 2
   },
   "file_extension": ".py",
   "mimetype": "text/x-python",
   "name": "python",
   "nbconvert_exporter": "python",
   "pygments_lexer": "ipython2",
   "version": "2.7.6"
  }
 },
 "nbformat": 4,
 "nbformat_minor": 5
}
